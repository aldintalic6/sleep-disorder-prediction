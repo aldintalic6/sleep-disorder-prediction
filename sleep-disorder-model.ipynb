{
 "cells": [
  {
   "cell_type": "code",
   "execution_count": 1,
   "metadata": {},
   "outputs": [
    {
     "ename": "ModuleNotFoundError",
     "evalue": "No module named 'pandas'",
     "output_type": "error",
     "traceback": [
      "\u001b[0;31m---------------------------------------------------------------------------\u001b[0m",
      "\u001b[0;31mModuleNotFoundError\u001b[0m                       Traceback (most recent call last)",
      "Cell \u001b[0;32mIn[1], line 1\u001b[0m\n\u001b[0;32m----> 1\u001b[0m \u001b[38;5;28;01mimport\u001b[39;00m \u001b[38;5;21;01mpandas\u001b[39;00m \u001b[38;5;28;01mas\u001b[39;00m \u001b[38;5;21;01mpd\u001b[39;00m\n\u001b[1;32m      2\u001b[0m \u001b[38;5;28;01mimport\u001b[39;00m \u001b[38;5;21;01mnumpy\u001b[39;00m \u001b[38;5;28;01mas\u001b[39;00m \u001b[38;5;21;01mnp\u001b[39;00m\n\u001b[1;32m      3\u001b[0m data \u001b[38;5;241m=\u001b[39m pd\u001b[38;5;241m.\u001b[39mread_csv(\u001b[38;5;124m\"\u001b[39m\u001b[38;5;124m../Sleep_health_and_lifestyle_dataset.csv\u001b[39m\u001b[38;5;124m\"\u001b[39m)\n",
      "\u001b[0;31mModuleNotFoundError\u001b[0m: No module named 'pandas'"
     ]
    }
   ],
   "source": [
    "import pandas as pd\n",
    "import numpy as np\n",
    "data = pd.read_csv(\"../Sleep_health_and_lifestyle_dataset.csv\")\n",
    "\n",
    "print(data.groupby(\"Sleep Disorder\").count()/len(data))"
   ]
  },
  {
   "cell_type": "code",
   "execution_count": 2,
   "metadata": {},
   "outputs": [
    {
     "ename": "NameError",
     "evalue": "name 'data' is not defined",
     "output_type": "error",
     "traceback": [
      "\u001b[0;31m---------------------------------------------------------------------------\u001b[0m",
      "\u001b[0;31mNameError\u001b[0m                                 Traceback (most recent call last)",
      "Cell \u001b[0;32mIn[2], line 3\u001b[0m\n\u001b[1;32m      1\u001b[0m \u001b[38;5;66;03m# checking for missing values\u001b[39;00m\n\u001b[0;32m----> 3\u001b[0m missing_values \u001b[38;5;241m=\u001b[39m \u001b[43mdata\u001b[49m\u001b[38;5;241m.\u001b[39misnull()\u001b[38;5;241m.\u001b[39msum()\n\u001b[1;32m      4\u001b[0m \u001b[38;5;28mprint\u001b[39m(missing_values)\n",
      "\u001b[0;31mNameError\u001b[0m: name 'data' is not defined"
     ]
    }
   ],
   "source": [
    "# checking for missing values\n",
    "\n",
    "missing_values = data.isnull().sum()\n",
    "print(missing_values)"
   ]
  },
  {
   "cell_type": "code",
   "execution_count": 3,
   "metadata": {},
   "outputs": [
    {
     "ename": "NameError",
     "evalue": "name 'data' is not defined",
     "output_type": "error",
     "traceback": [
      "\u001b[0;31m---------------------------------------------------------------------------\u001b[0m",
      "\u001b[0;31mNameError\u001b[0m                                 Traceback (most recent call last)",
      "Cell \u001b[0;32mIn[3], line 3\u001b[0m\n\u001b[1;32m      1\u001b[0m \u001b[38;5;66;03m# setting NaN values in sleep disorder column to \"None\" => NaN = no sleep disorders \u001b[39;00m\n\u001b[0;32m----> 3\u001b[0m \u001b[43mdata\u001b[49m[\u001b[38;5;124m'\u001b[39m\u001b[38;5;124mSleep Disorder\u001b[39m\u001b[38;5;124m'\u001b[39m]\u001b[38;5;241m.\u001b[39mfillna(\u001b[38;5;124m\"\u001b[39m\u001b[38;5;124mNone\u001b[39m\u001b[38;5;124m\"\u001b[39m, inplace\u001b[38;5;241m=\u001b[39m\u001b[38;5;28;01mTrue\u001b[39;00m)\n\u001b[1;32m      5\u001b[0m missing_values \u001b[38;5;241m=\u001b[39m data\u001b[38;5;241m.\u001b[39misnull()\u001b[38;5;241m.\u001b[39msum()\n\u001b[1;32m      6\u001b[0m \u001b[38;5;28mprint\u001b[39m(missing_values)\n",
      "\u001b[0;31mNameError\u001b[0m: name 'data' is not defined"
     ]
    }
   ],
   "source": [
    "# setting NaN values in sleep disorder column to \"None\" => NaN = no sleep disorders \n",
    "\n",
    "data['Sleep Disorder'].fillna(\"None\", inplace=True)\n",
    "\n",
    "missing_values = data.isnull().sum()\n",
    "print(missing_values)"
   ]
  },
  {
   "cell_type": "code",
   "execution_count": 4,
   "metadata": {},
   "outputs": [
    {
     "ename": "NameError",
     "evalue": "name 'data' is not defined",
     "output_type": "error",
     "traceback": [
      "\u001b[0;31m---------------------------------------------------------------------------\u001b[0m",
      "\u001b[0;31mNameError\u001b[0m                                 Traceback (most recent call last)",
      "Cell \u001b[0;32mIn[4], line 3\u001b[0m\n\u001b[1;32m      1\u001b[0m \u001b[38;5;66;03m# checking for duplicates\u001b[39;00m\n\u001b[0;32m----> 3\u001b[0m duplicate_rows \u001b[38;5;241m=\u001b[39m \u001b[43mdata\u001b[49m\u001b[38;5;241m.\u001b[39mduplicated(subset\u001b[38;5;241m=\u001b[39mdata\u001b[38;5;241m.\u001b[39mcolumns\u001b[38;5;241m.\u001b[39mdifference([\u001b[38;5;124m'\u001b[39m\u001b[38;5;124mPerson ID\u001b[39m\u001b[38;5;124m'\u001b[39m]))\n\u001b[1;32m      4\u001b[0m \u001b[38;5;28mprint\u001b[39m(\u001b[38;5;124m\"\u001b[39m\u001b[38;5;124mNumber of duplicate rows:\u001b[39m\u001b[38;5;124m\"\u001b[39m, duplicate_rows\u001b[38;5;241m.\u001b[39msum())\n",
      "\u001b[0;31mNameError\u001b[0m: name 'data' is not defined"
     ]
    }
   ],
   "source": [
    "# checking for duplicates\n",
    "\n",
    "duplicate_rows = data.duplicated(subset=data.columns.difference(['Person ID']))\n",
    "print(\"Number of duplicate rows:\", duplicate_rows.sum())"
   ]
  },
  {
   "cell_type": "code",
   "execution_count": null,
   "metadata": {},
   "outputs": [],
   "source": [
    "print(len(data))"
   ]
  },
  {
   "cell_type": "code",
   "execution_count": null,
   "metadata": {},
   "outputs": [],
   "source": [
    "# deleting duplicates\n",
    "\n",
    "data.drop(data[duplicate_rows].index, inplace=True)"
   ]
  },
  {
   "cell_type": "code",
   "execution_count": null,
   "metadata": {},
   "outputs": [],
   "source": [
    "# checking for duplicates again\n",
    "\n",
    "duplicate_rows = data.duplicated(subset=data.columns.difference(['Person ID']))\n",
    "print(\"Number of duplicate rows:\", duplicate_rows.sum())"
   ]
  },
  {
   "cell_type": "code",
   "execution_count": null,
   "metadata": {},
   "outputs": [],
   "source": [
    "print(len(data))"
   ]
  },
  {
   "cell_type": "code",
   "execution_count": null,
   "metadata": {},
   "outputs": [],
   "source": [
    "print(data[\"BMI Category\"].unique())\n"
   ]
  },
  {
   "cell_type": "code",
   "execution_count": null,
   "metadata": {},
   "outputs": [],
   "source": [
    "# setting obese to overweight and normal weight to underweight, since that is how the values should be \n",
    "\n",
    "data['BMI Category'].replace('Obese', 'Overweight', inplace=True)\n",
    "data['BMI Category'].replace('Normal Weight', 'Underweight', inplace=True)"
   ]
  },
  {
   "cell_type": "code",
   "execution_count": null,
   "metadata": {},
   "outputs": [],
   "source": [
    "print(data[\"BMI Category\"].unique())"
   ]
  },
  {
   "cell_type": "code",
   "execution_count": null,
   "metadata": {},
   "outputs": [],
   "source": [
    "#renaming columns for better understanding\n",
    "new_column_names = {\n",
    "    'Sleep Duration': 'Sleep Duration (hours/day)',\n",
    "    'Physical Activity Level': 'Physical Activity Level (minutes/day)',\n",
    "    'Heart Rate': 'Heart Rate (bpm)'\n",
    "}\n",
    "\n",
    "data.rename(columns=new_column_names, inplace=True)"
   ]
  },
  {
   "cell_type": "code",
   "execution_count": null,
   "metadata": {
    "scrolled": true
   },
   "outputs": [],
   "source": [
    "data.head(70)"
   ]
  },
  {
   "cell_type": "code",
   "execution_count": null,
   "metadata": {},
   "outputs": [],
   "source": [
    "print(len(data))"
   ]
  },
  {
   "cell_type": "code",
   "execution_count": null,
   "metadata": {},
   "outputs": [],
   "source": [
    "data['Sleep Disorder'].value_counts()"
   ]
  },
  {
   "cell_type": "code",
   "execution_count": null,
   "metadata": {},
   "outputs": [],
   "source": [
    "data2 = data.copy(deep=True)"
   ]
  },
  {
   "cell_type": "code",
   "execution_count": null,
   "metadata": {},
   "outputs": [],
   "source": [
    "import matplotlib.pyplot as plt\n",
    "import seaborn as sns\n",
    "from scipy.stats import shapiro\n",
    "from scipy import stats\n",
    "\n",
    "data2.drop(['Person ID', 'Gender', 'Occupation', 'BMI Category','Sleep Disorder'],axis=1).plot(kind=\"density\",subplots=True, sharex=False, figsize=(30,30),xlim=0)\n",
    "plt.show()"
   ]
  },
  {
   "cell_type": "code",
   "execution_count": null,
   "metadata": {},
   "outputs": [],
   "source": [
    "correlate_sleepdisorder_bmi = data.copy()\n",
    "\n",
    "# Convert 'Sleep Disorder' to numerical values\n",
    "correlate_sleepdisorder_bmi['Sleep Disorder Numerical'] = correlate_sleepdisorder_bmi['Sleep Disorder'].map({'None': 0, 'Insomnia': 1, 'Sleep Apnea': 2})\n",
    "\n",
    "# Convert 'BMI Category' to numerical values\n",
    "correlate_sleepdisorder_bmi['BMI Category Numerical'] = correlate_sleepdisorder_bmi['BMI Category'].map({'Underweight': 0, 'Normal': 1, 'Overweight': 2})\n",
    "\n",
    "num_columns = correlate_sleepdisorder_bmi.select_dtypes(include=['int', 'float']).columns\n",
    "\n",
    "# Calculate the correlation matrix\n",
    "corr_matrix = correlate_sleepdisorder_bmi[num_columns].corr()\n",
    "\n",
    "# Plot heatmap\n",
    "plt.figure(figsize=(10, 6))\n",
    "sns.heatmap(corr_matrix, annot=False, cmap='coolwarm', fmt=\".2f\", linewidths=0.5)\n",
    "plt.title('Correlation Heatmap')\n",
    "plt.xticks(rotation=45, ha='right')\n",
    "plt.tight_layout()\n",
    "plt.show()"
   ]
  },
  {
   "cell_type": "code",
   "execution_count": null,
   "metadata": {},
   "outputs": [],
   "source": [
    "data.head()"
   ]
  },
  {
   "cell_type": "code",
   "execution_count": null,
   "metadata": {},
   "outputs": [],
   "source": [
    "## DEMOGRAPHIC ANALYSIS\n",
    "\n",
    "# percentage of male and female individuals\n",
    "\n",
    "male_count = (data['Gender'] == 'Male').sum()\n",
    "female_count = (data['Gender'] == 'Female').sum()\n",
    "total_count = len(data)\n",
    "\n",
    "male_percentage = (male_count / total_count) * 100\n",
    "female_percentage = (female_count / total_count) * 100\n",
    "\n",
    "labels = ['Male', 'Female']\n",
    "sizes = [male_percentage, female_percentage]\n",
    "\n",
    "plt.figure(figsize=(8, 6))\n",
    "plt.pie(sizes, labels=labels, autopct='%1.1f%%', startangle=108)\n",
    "plt.title('Percentage of Male and Female Individuals')\n",
    "plt.show()"
   ]
  },
  {
   "cell_type": "code",
   "execution_count": null,
   "metadata": {},
   "outputs": [],
   "source": [
    "# age by gender\n",
    "\n",
    "plt.figure(figsize=(10, 6))\n",
    "sns.scatterplot(x='Age', y='Gender', data=data)\n",
    "plt.title('Scatter Plot of Age by Gender')\n",
    "plt.xlabel('Age')\n",
    "plt.ylabel('Gender')\n",
    "plt.show()\n",
    "\n",
    "plt.figure(figsize=(10, 6))\n",
    "sns.boxplot(x='Age', y='Gender', data=data)\n",
    "plt.title('Box Plot of Age by Gender')\n",
    "plt.xlabel('Age')\n",
    "plt.ylabel('Gender')\n",
    "plt.show()"
   ]
  },
  {
   "cell_type": "code",
   "execution_count": null,
   "metadata": {},
   "outputs": [],
   "source": [
    "average_age_all = data['Age'].mean()\n",
    "\n",
    "average_age_male = data[data['Gender'] == 'Male']['Age'].mean()\n",
    "average_age_female = data[data['Gender'] == 'Female']['Age'].mean()\n",
    "\n",
    "labels = ['All', 'Male', 'Female']\n",
    "average_ages = [average_age_all, average_age_male, average_age_female]\n",
    "\n",
    "plt.figure(figsize=(8, 6))\n",
    "plt.bar(labels, average_ages)\n",
    "plt.title('Average Age of Individuals')\n",
    "plt.xlabel('Gender')\n",
    "plt.ylabel('Average Age')\n",
    "plt.yticks(range(0, 51, 5))\n",
    "plt.show()"
   ]
  },
  {
   "cell_type": "code",
   "execution_count": null,
   "metadata": {},
   "outputs": [],
   "source": [
    "# Create separate histograms for each gender\n",
    "\"\"\"\n",
    "plt.figure(figsize=(10, 6))\n",
    "sns.histplot(data=data, x='Age', hue='Gender', kde=True, bins=30, palette='Set2')\n",
    "plt.title('Distribution of Age by Gender (Histograms)')\n",
    "plt.xlabel('Age')\n",
    "plt.ylabel('Frequency')\n",
    "plt.legend(title='Gender')\n",
    "plt.show()\n",
    "\"\"\""
   ]
  },
  {
   "cell_type": "code",
   "execution_count": null,
   "metadata": {},
   "outputs": [],
   "source": [
    "# occupation percentage\n",
    "\n",
    "occupation_counts = data['Occupation'].value_counts(normalize=True) * 100\n",
    "\n",
    "plt.figure(figsize=(10, 6))\n",
    "occupation_counts.plot(kind='barh')  \n",
    "plt.title('Percentage of Each Occupation')\n",
    "plt.xlabel('Percentage')\n",
    "plt.xticks(range(0, 26, 3))\n",
    "plt.ylabel('Occupation')\n",
    "plt.show()"
   ]
  },
  {
   "cell_type": "code",
   "execution_count": null,
   "metadata": {},
   "outputs": [],
   "source": [
    "# count number of individuals in occupation\n",
    "\n",
    "occupation = 'Nurse'\n",
    "count_individuals_for_specific_occupation = ((data['Occupation'] == occupation)).sum()\n",
    "print(f\"Number of individuals in {occupation } occupation: {count_individuals_for_specific_occupation}\")"
   ]
  },
  {
   "cell_type": "code",
   "execution_count": null,
   "metadata": {},
   "outputs": [],
   "source": [
    "# HEALTH ANALYSIS\n",
    "\n",
    "# percentage of disorders \n",
    "\n",
    "no_disorders_count = (data['Sleep Disorder'] == 'None').sum()\n",
    "inosmnia_count = (data['Sleep Disorder'] == 'Insomnia').sum()\n",
    "sleepapnea_count = (data['Sleep Disorder'] == 'Sleep Apnea').sum()\n",
    "\n",
    "total_count = len(data)\n",
    "\n",
    "no_disorders_percentage = (no_disorders_count / total_count) * 100\n",
    "inosmnia_percentage = (inosmnia_count / total_count) * 100\n",
    "sleepapnea_percentage = (sleepapnea_count / total_count) * 100\n",
    "\n",
    "labels = ['None', 'Insomnia', 'Sleep Apnea']\n",
    "sizes = [no_disorders_percentage, inosmnia_percentage, sleepapnea_percentage]\n",
    "\n",
    "plt.figure(figsize=(8, 6))\n",
    "plt.pie(sizes, labels=labels, autopct='%1.1f%%', startangle=108)\n",
    "plt.title('Percentage of Disorders')\n",
    "plt.show()"
   ]
  },
  {
   "cell_type": "code",
   "execution_count": null,
   "metadata": {},
   "outputs": [],
   "source": [
    "# sleep disorders by gender\n",
    "\n",
    "sleep_disrorder_by_gender = data.groupby('Gender')['Sleep Disorder'].value_counts(normalize=True) * 100\n",
    "\n",
    "sleep_disrorder_by_gender = sleep_disrorder_by_gender.unstack()\n",
    "\n",
    "sleep_disrorder_by_gender.plot(kind='bar', stacked=True, figsize=(8, 4))\n",
    "plt.title('Sleep Disorders by Gender')\n",
    "plt.xlabel('Gender')\n",
    "plt.ylabel('Percentage')\n",
    "plt.xticks(rotation=0)\n",
    "plt.yticks(np.arange(0, 101, 10))\n",
    "plt.legend(title='Sleep Disorder')\n",
    "plt.show()"
   ]
  },
  {
   "cell_type": "code",
   "execution_count": null,
   "metadata": {},
   "outputs": [],
   "source": [
    "# sleep disorders by age\n",
    "\n",
    "sleep_disorder_by_age = data.groupby('Age')['Sleep Disorder'].value_counts(normalize=True) * 100\n",
    "\n",
    "sleep_disorder_by_age = sleep_disorder_by_age.unstack()\n",
    "\n",
    "plt.figure(figsize=(20, 8))\n",
    "ax = sleep_disorder_by_age.plot(kind='bar', stacked=True, width=0.9)\n",
    "plt.title('Percentage of Sleep Disorders by Age')\n",
    "plt.xlabel('Age')\n",
    "plt.ylabel('Percentage')\n",
    "plt.xticks(rotation=65)\n",
    "plt.yticks(np.arange(0, 101, 10)) \n",
    "plt.legend(title='Sleep Disorder')\n",
    "ax.yaxis.grid(True)\n",
    "plt.tight_layout()\n",
    "plt.show()"
   ]
  },
  {
   "cell_type": "code",
   "execution_count": null,
   "metadata": {},
   "outputs": [],
   "source": [
    "# count number of specific sleep disorders for a age group\n",
    "age = 28\n",
    "sleep_disorder = 'Insomnia'\n",
    "count_disoders_for_specific_age_group = ((data['Age'] == age) & (data['Sleep Disorder'] == sleep_disorder)).sum()\n",
    "print(f\"Number of {sleep_disorder} disorders at age {age}: {count_disoders_for_specific_age_group}\")"
   ]
  },
  {
   "cell_type": "code",
   "execution_count": null,
   "metadata": {},
   "outputs": [],
   "source": [
    "# sleep disorder by occupation \n",
    "\n",
    "sleep_disorder_by_occupation = data.groupby('Occupation')['Sleep Disorder'].value_counts(normalize=True) * 100\n",
    "\n",
    "sleep_disorder_by_occupation = sleep_disorder_by_occupation.unstack()\n",
    "\n",
    "plt.figure(figsize=(8, 4))\n",
    "sleep_disorder_by_occupation.plot(kind='bar', stacked=True)\n",
    "plt.title('Percentage of Sleep Disorders by Occupation')\n",
    "plt.xlabel('Occupation')\n",
    "plt.ylabel('Percentage')\n",
    "plt.xticks(rotation=45, ha='right')\n",
    "plt.yticks(np.arange(0, 101, 10)) \n",
    "plt.legend(title='Sleep Disorder')\n",
    "plt.show()"
   ]
  },
  {
   "cell_type": "code",
   "execution_count": null,
   "metadata": {},
   "outputs": [],
   "source": [
    "# count number of specific sleep disorders for occupation\n",
    "occupation = \"Engineer\"\n",
    "sleep_disorder = 'Sleep Apnea'\n",
    "count_disorders_for_specific_occupation = ((data['Occupation'] == occupation) & (data['Sleep Disorder'] == sleep_disorder)).sum()\n",
    "print(f\"Number of {sleep_disorder} disorders in {occupation} occupation: {count_disorders_for_specific_occupation}\")"
   ]
  },
  {
   "cell_type": "code",
   "execution_count": null,
   "metadata": {},
   "outputs": [],
   "source": [
    "data.head(10)"
   ]
  },
  {
   "cell_type": "code",
   "execution_count": null,
   "metadata": {},
   "outputs": [],
   "source": [
    "# sleep disorder by BMI category\n",
    "\n",
    "sleep_disorder_by_bmicategory = data.groupby('BMI Category')['Sleep Disorder'].value_counts(normalize=True) * 100\n",
    "\n",
    "sleep_disorder_by_bmicategory = sleep_disorder_by_bmicategory.unstack()\n",
    "\n",
    "plt.figure(figsize=(8, 4))\n",
    "sleep_disorder_by_bmicategory.plot(kind='bar', stacked=True)\n",
    "plt.title('Percentage of Sleep Disorders by BMI Category')\n",
    "plt.xlabel('BMI Category')\n",
    "plt.ylabel('Percentage')\n",
    "plt.xticks(rotation=45, ha='right')\n",
    "plt.yticks(np.arange(0, 101, 10)) \n",
    "plt.legend(title='Sleep Disorder')\n",
    "plt.show()"
   ]
  },
  {
   "cell_type": "code",
   "execution_count": null,
   "metadata": {},
   "outputs": [],
   "source": [
    "# BMI category by occupation\n",
    "\n",
    "bmicategory_by_occupation = data.groupby('Occupation')['BMI Category'].value_counts(normalize=True) * 100\n",
    "\n",
    "bmicategory_by_occupation = bmicategory_by_occupation.unstack()\n",
    "\n",
    "plt.figure(figsize=(8, 4))\n",
    "bmicategory_by_occupation.plot(kind='bar', stacked=True)\n",
    "plt.title('BMI Category by Occupation')\n",
    "plt.xlabel('Occupation')\n",
    "plt.ylabel('Percentage')\n",
    "plt.xticks(rotation=45, ha='right')\n",
    "plt.yticks(np.arange(0, 101, 10)) \n",
    "plt.legend(title='Sleep Disorder')\n",
    "plt.show()"
   ]
  },
  {
   "cell_type": "code",
   "execution_count": null,
   "metadata": {},
   "outputs": [],
   "source": [
    "# Plot blood pressure by age\n",
    "plt.figure(figsize=(10, 6))\n",
    "sns.lineplot(x='Age', y='Blood Pressure', data=data)\n",
    "plt.title('Blood Pressure by Age')\n",
    "plt.xlabel('Age')\n",
    "plt.ylabel('Blood Pressure')\n",
    "plt.grid(True)\n",
    "plt.show()"
   ]
  },
  {
   "cell_type": "code",
   "execution_count": null,
   "metadata": {},
   "outputs": [],
   "source": [
    "# relationship between heart rate, blood pressure and sleep disorder\n",
    "\n",
    "plt.figure(figsize=(12, 8))\n",
    "\n",
    "# Creates new DataFrame, with rows where Sleep Disorder is not \"None\"\n",
    "filtered_data = data[data['Sleep Disorder'] != 'None']\n",
    "\n",
    "# Sorts the filtered data by blood pressure\n",
    "filtered_data = filtered_data.sort_values(by='Blood Pressure')\n",
    "\n",
    "# Iterate over each sleep disorder category\n",
    "for sleep_disorder in filtered_data['Sleep Disorder'].unique():\n",
    "    # Filter data for the current sleep disorder category\n",
    "    disorder_data = filtered_data[filtered_data['Sleep Disorder'] == sleep_disorder]\n",
    "    \n",
    "    # Plot scatter plot for blood pressure and heart rate, with sleep disorder category as hue\n",
    "    sns.scatterplot(data=disorder_data, x='Heart Rate (bpm)', y='Blood Pressure', hue='Sleep Disorder', palette='Set1', alpha=0.7)\n",
    "\n",
    "# Add title and labels\n",
    "plt.title('Relationship between Blood Pressure and Heart Rate with Sleep Disorder')\n",
    "plt.xlabel('Heart Rate (bpm)')\n",
    "plt.ylabel('Blood Pressure')\n",
    "\n",
    "# Show legend with specified labels\n",
    "plt.legend(title='Sleep Disorder', labels=filtered_data['Sleep Disorder'].unique())\n",
    "\n",
    "# Show plot\n",
    "plt.grid(True)\n",
    "plt.tight_layout()\n",
    "plt.show()"
   ]
  },
  {
   "cell_type": "code",
   "execution_count": null,
   "metadata": {},
   "outputs": [],
   "source": [
    "# LIFESTYLE ANALYSIS\n",
    "\n",
    "# average sleep duration for gender and age\n",
    "avg_sleep_duration = data.groupby(['Gender', 'Age'])['Sleep Duration (hours/day)'].mean().reset_index()\n",
    "\n",
    "# Plotting the average sleep duration for gender and age groups\n",
    "plt.figure(figsize=(9, 3))\n",
    "sns.barplot(data=avg_sleep_duration, x='Age', y='Sleep Duration (hours/day)', hue='Gender', palette='Set1', dodge=True)\n",
    "plt.title('Average Sleep Duration for Gender and Age Groups')\n",
    "plt.xlabel('Age')\n",
    "plt.ylabel('Average Sleep Duration (hours/day)')\n",
    "plt.xticks(rotation=45)\n",
    "plt.legend(title='Gender')\n",
    "plt.tight_layout()\n",
    "plt.show()"
   ]
  },
  {
   "cell_type": "code",
   "execution_count": null,
   "metadata": {},
   "outputs": [],
   "source": [
    "# sleep disorder by physical activity level\n",
    "\n",
    "physicalactivity_by_disorder = data.groupby('Physical Activity Level (minutes/day)')['Sleep Disorder'].value_counts(normalize=True) * 100\n",
    "\n",
    "physicalactivity_by_disorder = physicalactivity_by_disorder.unstack()\n",
    "\n",
    "plt.figure(figsize=(8, 4))\n",
    "physicalactivity_by_disorder.plot(kind='bar', stacked=True, width=0.9)\n",
    "plt.title('Sleep disorder by physical activity level')\n",
    "plt.xlabel('Physical Activity Level')\n",
    "plt.ylabel('Percentage')\n",
    "plt.xticks(rotation=0)\n",
    "plt.legend(title='Sleep Disorder')\n",
    "plt.show()"
   ]
  },
  {
   "cell_type": "code",
   "execution_count": null,
   "metadata": {},
   "outputs": [],
   "source": [
    "data.head()"
   ]
  },
  {
   "cell_type": "code",
   "execution_count": null,
   "metadata": {},
   "outputs": [],
   "source": [
    "# average sleep duration by stress level\n",
    "\n",
    "sleep_by_stress = data.groupby('Stress Level')['Sleep Duration (hours/day)'].mean().reset_index()\n",
    "\n",
    "# Plot stress level by average sleep duration\n",
    "plt.figure(figsize=(8, 4))\n",
    "sns.barplot(x='Stress Level', y='Sleep Duration (hours/day)', data=sleep_by_stress, palette='coolwarm')\n",
    "plt.title('Average Sleep Duration by Stress Level')\n",
    "plt.xlabel('Stress Level')\n",
    "plt.ylabel('Average Sleep Duration (hours/day)')\n",
    "plt.tight_layout()\n",
    "plt.show()"
   ]
  },
  {
   "cell_type": "code",
   "execution_count": null,
   "metadata": {},
   "outputs": [],
   "source": [
    "# BMI category by physical activity\n",
    "average_physical_activity = data.groupby('BMI Category')['Physical Activity Level (minutes/day)'].mean().reset_index()\n",
    "\n",
    "# Plot bar plot\n",
    "plt.figure(figsize=(8, 6))\n",
    "sns.barplot(x='BMI Category', y='Physical Activity Level (minutes/day)', data=average_physical_activity)\n",
    "plt.title('Average Physical Activity Level by BMI Category')\n",
    "plt.xlabel('BMI Category')\n",
    "plt.ylabel('Average Physical Activity Level (minutes/day)')\n",
    "plt.show()"
   ]
  },
  {
   "cell_type": "code",
   "execution_count": null,
   "metadata": {},
   "outputs": [],
   "source": [
    "# MODEL\n",
    "\n",
    "from sklearn.preprocessing import StandardScaler\n",
    "\n",
    "data.drop(columns=['Person ID'], inplace=True)"
   ]
  },
  {
   "cell_type": "code",
   "execution_count": null,
   "metadata": {},
   "outputs": [],
   "source": [
    "data.head(20)"
   ]
  },
  {
   "cell_type": "code",
   "execution_count": null,
   "metadata": {},
   "outputs": [],
   "source": [
    "# SCALING\n",
    "\n",
    "from sklearn.preprocessing import MinMaxScaler, LabelEncoder\n",
    "\n",
    "data_model = data.copy()\n",
    "\n",
    "num_cols = ['Age', 'Sleep Duration (hours/day)', 'Quality of Sleep', 'Physical Activity Level (minutes/day)', 'Stress Level', 'Heart Rate (bpm)', 'Daily Steps']\n",
    "\n",
    "scaler = MinMaxScaler()\n",
    "\n",
    "data_model[num_cols] = scaler.fit_transform(data_model[num_cols])\n",
    "\n",
    "# LabelEncoding target column\n",
    "\n",
    "target_column = 'Sleep Disorder'\n",
    "\n",
    "label_encoder = LabelEncoder()\n",
    "data_model[target_column] = label_encoder.fit_transform(data_model[target_column])\n",
    "\n",
    "print(\"Class labels:\", label_encoder.classes_)\n",
    "\n"
   ]
  },
  {
   "cell_type": "code",
   "execution_count": null,
   "metadata": {},
   "outputs": [],
   "source": [
    "data_model.head(20)"
   ]
  },
  {
   "cell_type": "code",
   "execution_count": null,
   "metadata": {},
   "outputs": [],
   "source": [
    "# ONE HOT ENCODING OTHER CATEGORICAL COLUMNS \n",
    "\n",
    "remaining_catergorical_columns = ['Gender', 'Occupation', 'BMI Category', 'Blood Pressure']\n",
    "\n",
    "encoded_columns = pd.get_dummies(data_model[remaining_catergorical_columns], drop_first=False)\n",
    "\n",
    "data_encoded = pd.concat([data_model.drop(columns=remaining_catergorical_columns), encoded_columns], axis=1)"
   ]
  },
  {
   "cell_type": "code",
   "execution_count": null,
   "metadata": {},
   "outputs": [],
   "source": [
    "print(data_encoded.columns) # main dataframe now "
   ]
  },
  {
   "cell_type": "code",
   "execution_count": null,
   "metadata": {},
   "outputs": [],
   "source": [
    "# SPLITTING DATA TO TRAINING AND TESTING \n",
    "\n",
    "from sklearn.model_selection import train_test_split\n",
    "\n",
    "X = data_encoded.drop(columns=['Sleep Disorder'])\n",
    "\n",
    "y = data_encoded['Sleep Disorder']\n",
    "\n",
    "X_train, X_test, y_train, y_test = train_test_split(X, y, test_size=0.2, random_state=42)\n",
    "\n",
    "print(\"Training set shape:\", X_train.shape, y_train.shape)\n",
    "print(\"Testing set shape:\", X_test.shape, y_test.shape)\n"
   ]
  },
  {
   "cell_type": "code",
   "execution_count": null,
   "metadata": {},
   "outputs": [],
   "source": [
    "# CREATING MODEL USING RANDOM FOREST ALGORITHM\n",
    "\n",
    "from sklearn.ensemble import RandomForestClassifier\n",
    "\n",
    "# Initialize the Random Forest classifier\n",
    "rf_classifier = RandomForestClassifier(random_state=42)\n",
    "\n",
    "# Train the Random Forest classifier on the training data\n",
    "rf_classifier.fit(X_train, y_train)\n",
    "\n",
    "# Once trained, you can use the model to make predictions on the testing data\n",
    "y_pred = rf_classifier.predict(X_test)"
   ]
  },
  {
   "cell_type": "code",
   "execution_count": null,
   "metadata": {},
   "outputs": [],
   "source": [
    "# EVALUATING ALGORITHM\n",
    "\n",
    "from sklearn.metrics import accuracy_score\n",
    "accuracy = accuracy_score(y_test, y_pred)\n",
    "print(\"Accuracy:\", accuracy)\n",
    "print(\"\\n\")\n",
    "\n",
    "from sklearn.metrics import confusion_matrix\n",
    "conf_matrix = confusion_matrix(y_test, y_pred)\n",
    "print(\"Confusion Matrix:\")\n",
    "print(conf_matrix)\n",
    "print(\"\\n\")\n",
    "\n",
    "from sklearn.metrics import classification_report\n",
    "class_report = classification_report(y_test, y_pred)\n",
    "print(\"Classification Report:\")\n",
    "print(class_report)\n",
    "print(\"\\n\")\n",
    "\n",
    "feature_importances = rf_classifier.feature_importances_\n",
    "\n",
    "# Create a DataFrame with feature names and their importances\n",
    "feature_names = X_train.columns\n",
    "feature_importance_df = pd.DataFrame({'Feature': feature_names, 'Importance': feature_importances})\n",
    "\n",
    "# Sort the DataFrame by importance in descending order\n",
    "feature_importance_df = feature_importance_df.sort_values(by='Importance', ascending=False)"
   ]
  },
  {
   "cell_type": "code",
   "execution_count": null,
   "metadata": {},
   "outputs": [],
   "source": [
    "#def evaluate_model(model, x_test, y_test):\n",
    "#    from sklearn import metrics\n",
    "\n",
    "    # Predict Test Data \n",
    "#    y_pred = model.predict(x_test)\n",
    "\n",
    "    # Calculate accuracy, precision, recall, f1-score, and kappa score\n",
    "#    acc = metrics.accuracy_score(y_test, y_pred)\n",
    "#    prec = metrics.precision_score(y_test, y_pred, average='macro')  # Set average='weighted'\n",
    "#    rec = metrics.recall_score(y_test, y_pred, average='macro')  # Set average='weighted'\n",
    "#    f1 = metrics.f1_score(y_test, y_pred, average='macro')  # Set average='weighted'\n",
    "#    kappa = metrics.cohen_kappa_score(y_test, y_pred)\n",
    "\n",
    "    # Display confusion matrix\n",
    " #   cm = metrics.confusion_matrix(y_test, y_pred)\n",
    "\n",
    "#    return {'acc': acc, 'prec': prec, 'rec': rec, 'f1': f1, 'kappa': kappa, 'cm': cm}"
   ]
  },
  {
   "cell_type": "code",
   "execution_count": null,
   "metadata": {},
   "outputs": [],
   "source": [
    "#rf_eval = evaluate_model(rf_classifier, X_test, y_test)\n",
    "\n",
    "#print('Accuracy:', rf_eval['acc'])\n",
    "#print('Precision:', rf_eval['prec'])\n",
    "#print('Recall:', rf_eval['rec'])\n",
    "#print('F1 Score:', rf_eval['f1'])\n",
    "#print('Cohens Kappa Score:', rf_eval['kappa'])\n",
    "#print('Confusion Matrix:\\n', rf_eval['cm'])"
   ]
  },
  {
   "cell_type": "code",
   "execution_count": null,
   "metadata": {},
   "outputs": [],
   "source": [
    "# Plot accuracy\n",
    "plt.figure(figsize=(6, 4))\n",
    "plt.bar(['Accuracy'], [accuracy], color='skyblue', edgecolor='black')\n",
    "plt.xlabel('Metrics', fontweight='bold')\n",
    "plt.ylabel('Score', fontweight='bold')\n",
    "plt.title('Accuracy Score', fontsize=16, fontweight='bold')\n",
    "plt.ylim(0, 1)\n",
    "plt.show()\n",
    "\n",
    "# Plot confusion matrix\n",
    "labels = ['Insomnia', 'None', 'Sleep Apnea']\n",
    "\n",
    "plt.figure(figsize=(6, 4))\n",
    "sns.set(font_scale=1.2) # Adjust font scale if needed\n",
    "sns.heatmap(conf_matrix, annot=True, fmt='d', cmap='Blues', xticklabels=labels, yticklabels=labels)\n",
    "plt.xlabel('Predicted')\n",
    "plt.ylabel('Actual')\n",
    "plt.title('Confusion Matrix')\n",
    "plt.show()\n",
    "\n",
    "# Select top N features (e.g., top 10)\n",
    "top_features_df = feature_importance_df.head(10)\n",
    "\n",
    "# Plot Feature Importance\n",
    "plt.figure(figsize=(8, 6))\n",
    "sns.barplot(x='Importance', y='Feature', data=top_features_df, palette='viridis')\n",
    "plt.title('Top 10 Feature Importance')\n",
    "plt.xlabel('Importance')\n",
    "plt.ylabel('Feature')\n",
    "plt.show()"
   ]
  },
  {
   "cell_type": "code",
   "execution_count": null,
   "metadata": {},
   "outputs": [],
   "source": [
    "# TUNING THE MODEL\n",
    "\n",
    "from sklearn.model_selection import GridSearchCV\n",
    "\n",
    "# Define the parameter grid to search\n",
    "param_grid = {\n",
    "    'n_estimators': [50, 100, 200],  # Number of trees in the forest\n",
    "    'max_depth': [None, 10, 20],       # Maximum depth of the tree\n",
    "    'min_samples_split': [2, 5, 10],   # Minimum number of samples required to split an internal node\n",
    "    'min_samples_leaf': [1, 2, 4]      # Minimum number of samples required to be at a leaf node\n",
    "}\n",
    "\n",
    "# Instantiate the GridSearchCV object\n",
    "grid_search = GridSearchCV(estimator=rf_classifier, param_grid=param_grid, cv=5, scoring='accuracy', n_jobs=-1)\n",
    "\n",
    "# Fit the GridSearchCV object to the training data\n",
    "grid_search.fit(X_train, y_train)\n",
    "\n",
    "# Print the best parameters found\n",
    "print(\"Best Parameters:\", grid_search.best_params_)\n",
    "print(\"\\n\")\n",
    "\n",
    "# Print the best estimator found\n",
    "best_rf_classifier = grid_search.best_estimator_\n",
    "print(\"Best Estimator:\", best_rf_classifier)\n",
    "print(\"\\n\")\n",
    "\n",
    "# Use the best estimator to make predictions\n",
    "y_pred_tuned = best_rf_classifier.predict(X_test)\n",
    "\n",
    "# Evaluate the performance of the tuned model\n",
    "accuracy_tuned = accuracy_score(y_test, y_pred_tuned)\n",
    "print(\"Tuned Model Accuracy:\", accuracy_tuned)\n",
    "print(\"\\n\")\n",
    "\n",
    "# Print the classification report for the tuned model\n",
    "class_report_tuned = classification_report(y_test, y_pred_tuned)\n",
    "print(\"Tuned Model Classification Report:\")\n",
    "print(class_report_tuned)\n",
    "print(\"\\n\")\n",
    "\n",
    "# Print the confusion matrix for the tuned model\n",
    "conf_matrix_tuned = confusion_matrix(y_test, y_pred_tuned)\n",
    "print(\"Tuned Model Confusion Matrix:\")\n",
    "print(conf_matrix_tuned)\n",
    "print(\"\\n\")"
   ]
  },
  {
   "cell_type": "code",
   "execution_count": null,
   "metadata": {},
   "outputs": [],
   "source": [
    "# Plot accuracy\n",
    "plt.figure(figsize=(6, 4))\n",
    "plt.bar(['Accuracy'], [accuracy_tuned], color='skyblue', edgecolor='black')\n",
    "plt.xlabel('Metrics', fontweight='bold')\n",
    "plt.ylabel('Score', fontweight='bold')\n",
    "plt.title('Accuracy Score', fontsize=16, fontweight='bold')\n",
    "plt.ylim(0, 1)\n",
    "plt.show()\n",
    "\n",
    "# Plot confusion matrix\n",
    "labels = ['Insomnia', 'None', 'Sleep Apnea']\n",
    "\n",
    "plt.figure(figsize=(6, 4))\n",
    "sns.set(font_scale=1.2) # Adjust font scale if needed\n",
    "sns.heatmap(conf_matrix_tuned, annot=True, fmt='d', cmap='Blues', xticklabels=labels, yticklabels=labels)\n",
    "plt.xlabel('Predicted')\n",
    "plt.ylabel('Actual')\n",
    "plt.title('Confusion Matrix')\n",
    "plt.show()\n"
   ]
  },
  {
   "cell_type": "code",
   "execution_count": null,
   "metadata": {},
   "outputs": [],
   "source": []
  }
 ],
 "metadata": {
  "kernelspec": {
   "display_name": "Python 3 (ipykernel)",
   "language": "python",
   "name": "python3"
  },
  "language_info": {
   "codemirror_mode": {
    "name": "ipython",
    "version": 3
   },
   "file_extension": ".py",
   "mimetype": "text/x-python",
   "name": "python",
   "nbconvert_exporter": "python",
   "pygments_lexer": "ipython3",
   "version": "3.12.2"
  }
 },
 "nbformat": 4,
 "nbformat_minor": 4
}
